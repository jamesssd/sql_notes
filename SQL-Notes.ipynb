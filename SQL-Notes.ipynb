{
 "cells": [
  {
   "cell_type": "markdown",
   "id": "9aa46b34-c463-4a8c-ae0e-8af980606cc1",
   "metadata": {},
   "source": [
    "### What is a database?\n",
    "- Any collection of related information\n",
    "- Database can be stored in different ways\n",
    "\n"
   ]
  }
 ],
 "metadata": {
  "kernelspec": {
   "display_name": "Python 3 (ipykernel)",
   "language": "python",
   "name": "python3"
  },
  "language_info": {
   "codemirror_mode": {
    "name": "ipython",
    "version": 3
   },
   "file_extension": ".py",
   "mimetype": "text/x-python",
   "name": "python",
   "nbconvert_exporter": "python",
   "pygments_lexer": "ipython3",
   "version": "3.12.2"
  }
 },
 "nbformat": 4,
 "nbformat_minor": 5
}
